{
  "nbformat": 4,
  "nbformat_minor": 0,
  "metadata": {
    "colab": {
      "name": "Install OpenCV4 Colab binary.ipynb",
      "version": "0.3.2",
      "provenance": [],
      "collapsed_sections": []
    },
    "kernelspec": {
      "name": "swift",
      "display_name": "Swift"
    },
    "accelerator": "GPU"
  },
  "cells": [
    {
      "cell_type": "code",
      "metadata": {
        "id": "e9P8P9z8nwOy",
        "colab_type": "code",
        "colab": {}
      },
      "source": [
        "%install '.package(url: \"https://github.com/vvmnnnkv/Shell\", .branch(\"master\"))' Shell\n",
        "\n",
        "import Shell\n",
        "\n",
        "!\"curl -sL https://github.com/vvmnnnkv/opencv-colab/raw/master/opencv4.tar.gz | tar zvxf - -C /\"\n",
        "!\"ldconfig /opt/opencv-4.1.0/lib/\"\n",
        "!\"ln -s /opt/opencv-4.1.0/lib/pkgconfig/opencv4.pc /usr/lib/pkgconfig/opencv4.pc\"\n",
        "!\"pkg-config --libs opencv4\""
      ],
      "execution_count": 0,
      "outputs": []
    }
  ]
}